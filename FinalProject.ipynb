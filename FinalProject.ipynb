{
  "cells": [
    {
      "cell_type": "code",
      "source": [
        "import scala.io.Source\n",
        "val pioneerGroup = \"https://raw.githubusercontent.com/MattPiekarczyk/clas299/master/pioneerGroupPainters.cex\""
      ],
      "outputs": [
        {
          "output_type": "execute_result",
          "execution_count": 1,
          "data": {
            "text/plain": [
              "\u001b[32mimport \u001b[39m\u001b[36mscala.io.Source\n",
              "\u001b[39m\n",
              "\u001b[36mpioneerGroup\u001b[39m: \u001b[32mString\u001b[39m = \u001b[32m\"https://raw.githubusercontent.com/MattPiekarczyk/clas299/master/pioneerGroupPainters.cex\"\u001b[39m"
            ]
          },
          "metadata": {}
        }
      ],
      "execution_count": 1,
      "metadata": {}
    },
    {
      "cell_type": "code",
      "source": [
        "val lines = Source.fromURL(pioneerGroup).getLines.toVector\n",
        "val data = lines.tail.map(ln => ln.split(\"#\").toVector)\n",
        "val locationStrings = data.map(columns => columns(4))"
      ],
      "outputs": [
        {
          "output_type": "execute_result",
          "execution_count": 5,
          "data": {
            "text/plain": [
              "\u001b[36mlines\u001b[39m: \u001b[32mVector\u001b[39m[\u001b[32mString\u001b[39m] = \u001b[33mVector\u001b[39m(\n",
              "  \u001b[32m\"Hypsis#1#Munich 2423#Hydriai#Vulci#Amazons. On shoulder, chairiot, and two boys on horseback#413393\"\u001b[39m,\n",
              "  \u001b[32m\"Hypsis#2#Munich 2423#Hydriai#Vulci#Woman at fountain#413393\"\u001b[39m,\n",
              "  \u001b[32m\"The Dikaios Painter#1#Vienna, Univ., 631 b#Amphorae#Orvieto#A, Apollo with Artemis and Leto. B, arming.#NA\"\u001b[39m,\n",
              "  \u001b[32m\"The Dikaios Painter#2#London E 255#Amphorae#Vulci#A, Herakles and Apollo: The struggle for the tripod. B, warrior leaving home#413393\"\u001b[39m,\n",
              "  \u001b[32m\"The Dikaios Painter#3#London E 254#Amphorae#Vulci#A, warrior leaving home. B, citharode#413393\"\u001b[39m,\n",
              "  \u001b[32m\"The Dikaios Painter#4#Louvre G 45#Amphorae#unknown#A, youths and boys. B, warriors setting out#NA\"\u001b[39m,\n",
              "  \u001b[32m\"The Dikaios Painter#5#Cab M\\u00e9d. 387#Krater#Tarquinia#Komos (males and naked women)#NA\"\u001b[39m,\n",
              "  \u001b[32m\"The Dikaios Painter#6#London E 767#Psykter#Vulci#A, two baldheads preceded by a boy. B, two men, one of them playing the flute#413393\"\u001b[39m,\n",
              "  \u001b[32m\"The Dikaios Painter#7#Brussels R 351#Hydria#Vulci#Symposion (love-making)#413393\"\u001b[39m,\n",
              "  \u001b[32m\"Near The Dikaios Painter#1#Louvre G 51#Hydriai#unknown#Komos (woman making water and youth playing the flute)#NA\"\u001b[39m,\n",
              "  \u001b[32m\"Near The Dikaios Painter#2#Munich#Hydriai#Athens#Archer#579885\"\u001b[39m,\n",
              "  \u001b[32m\"Near The Dikaios Painter#3#Athens Acr. 790#Fragment of a pot#Athens#Youth#579885\"\u001b[39m,\n",
              "  \u001b[32m\"The Pezzino Group#1#Leyden PC 85#Amphora#Vulci#A, heroes quarrelling. B, Dionysos and maenads#413393\"\u001b[39m,\n",
              "  \u001b[32m\"The Pezzino Group#2#Agrigento#Calyx-krater#Agringento#A, warriors lifting the body of a dead hero. B, komos#NA\"\u001b[39m,\n",
              "  \u001b[32m\"The Pezzino Group#3#Munich 2420#Hydria#Vulci#Athletes. On shoulder, chariot harnessing#413393\"\u001b[39m,\n",
              "  \u001b[32m\"The Pezzino Group#4#NAples Stg. 5#Cup#Etruria#A, Dionysos with satyrs and maenads. B, komos#413122\"\u001b[39m,\n",
              "  \u001b[32m\"The Pioneer Group: Sundry#1#Istanbul#Calyx-krater#Xanthos#Men courting boys#536144\"\u001b[39m,\n",
              "  \u001b[32m\"The Pioneer Group: Sundry#2#Bohn 143a#Calyx-krater#Tarquinia/Vulci (?)#Warrior mounting chariot, with archer and warrior#NA/413393\"\u001b[39m,\n",
              "  \u001b[32m\"The Pioneer Group: Sundry#3#Oxford 1928. 504#Calyx-krater#unknown#Chariot, with the driver's hand, a warrior, and an archer#NA\"\u001b[39m,\n",
              "  \u001b[32m\"The Pioneer Group: Sundry#4#Florence PD 411#Calyx-krater#Gela#Frontal face and right breast of a man, satyr?#462214\"\u001b[39m,\n",
              "...\n",
              "\u001b[36mdata\u001b[39m: \u001b[32mVector\u001b[39m[\u001b[32mVector\u001b[39m[\u001b[32mString\u001b[39m]] = \u001b[33mVector\u001b[39m(\n",
              "  \u001b[33mVector\u001b[39m(\n",
              "    \u001b[32m\"Hypsis\"\u001b[39m,\n",
              "    \u001b[32m\"2\"\u001b[39m,\n",
              "    \u001b[32m\"Munich 2423\"\u001b[39m,\n",
              "    \u001b[32m\"Hydriai\"\u001b[39m,\n",
              "    \u001b[32m\"Vulci\"\u001b[39m,\n",
              "    \u001b[32m\"Woman at fountain\"\u001b[39m,\n",
              "    \u001b[32m\"413393\"\u001b[39m\n",
              "  ),\n",
              "  \u001b[33mVector\u001b[39m(\n",
              "    \u001b[32m\"The Dikaios Painter\"\u001b[39m,\n",
              "    \u001b[32m\"1\"\u001b[39m,\n",
              "    \u001b[32m\"Vienna, Univ., 631 b\"\u001b[39m,\n",
              "    \u001b[32m\"Amphorae\"\u001b[39m,\n",
              "    \u001b[32m\"Orvieto\"\u001b[39m,\n",
              "    \u001b[32m\"A, Apollo with Artemis and Leto. B, arming.\"\u001b[39m,\n",
              "    \u001b[32m\"NA\"\u001b[39m\n",
              "  ),\n",
              "  \u001b[33mVector\u001b[39m(\n",
              "    \u001b[32m\"The Dikaios Painter\"\u001b[39m,\n",
              "    \u001b[32m\"2\"\u001b[39m,\n",
              "    \u001b[32m\"London E 255\"\u001b[39m,\n",
              "    \u001b[32m\"Amphorae\"\u001b[39m,\n",
              "    \u001b[32m\"Vulci\"\u001b[39m,\n",
              "    \u001b[32m\"A, Herakles and Apollo: The struggle for the tripod. B, warrior leaving home\"\u001b[39m,\n",
              "    \u001b[32m\"413393\"\u001b[39m\n",
              "  ),\n",
              "  \u001b[33mVector\u001b[39m(\n",
              "    \u001b[32m\"The Dikaios Painter\"\u001b[39m,\n",
              "    \u001b[32m\"3\"\u001b[39m,\n",
              "    \u001b[32m\"London E 254\"\u001b[39m,\n",
              "    \u001b[32m\"Amphorae\"\u001b[39m,\n",
              "    \u001b[32m\"Vulci\"\u001b[39m,\n",
              "    \u001b[32m\"A, warrior leaving home. B, citharode\"\u001b[39m,\n",
              "    \u001b[32m\"413393\"\u001b[39m\n",
              "  ),\n",
              "  \u001b[33mVector\u001b[39m(\n",
              "...\n",
              "\u001b[36mlocationStrings\u001b[39m: \u001b[32mVector\u001b[39m[\u001b[32mString\u001b[39m] = \u001b[33mVector\u001b[39m(\n",
              "  \u001b[32m\"Vulci\"\u001b[39m,\n",
              "  \u001b[32m\"Orvieto\"\u001b[39m,\n",
              "  \u001b[32m\"Vulci\"\u001b[39m,\n",
              "  \u001b[32m\"Vulci\"\u001b[39m,\n",
              "  \u001b[32m\"unknown\"\u001b[39m,\n",
              "  \u001b[32m\"Tarquinia\"\u001b[39m,\n",
              "  \u001b[32m\"Vulci\"\u001b[39m,\n",
              "  \u001b[32m\"Vulci\"\u001b[39m,\n",
              "  \u001b[32m\"unknown\"\u001b[39m,\n",
              "  \u001b[32m\"Athens\"\u001b[39m,\n",
              "  \u001b[32m\"Athens\"\u001b[39m,\n",
              "  \u001b[32m\"Vulci\"\u001b[39m,\n",
              "  \u001b[32m\"Agringento\"\u001b[39m,\n",
              "  \u001b[32m\"Vulci\"\u001b[39m,\n",
              "  \u001b[32m\"Etruria\"\u001b[39m,\n",
              "  \u001b[32m\"Xanthos\"\u001b[39m,\n",
              "  \u001b[32m\"Tarquinia/Vulci (?)\"\u001b[39m,\n",
              "  \u001b[32m\"unknown\"\u001b[39m,\n",
              "  \u001b[32m\"Gela\"\u001b[39m,\n",
              "  \u001b[32m\"Athens\"\u001b[39m,\n",
              "  \u001b[32m\"Gela\"\u001b[39m,\n",
              "  \u001b[32m\"Taranto\"\u001b[39m,\n",
              "  \u001b[32m\"unknown\"\u001b[39m,\n",
              "  \u001b[32m\"Vulci\"\u001b[39m,\n",
              "  \u001b[32m\"unknown\"\u001b[39m,\n",
              "  \u001b[32m\"Locri\"\u001b[39m,\n",
              "  \u001b[32m\"unknown\"\u001b[39m,\n",
              "  \u001b[32m\"Taranto\"\u001b[39m,\n",
              "  \u001b[32m\"unknown\"\u001b[39m,\n",
              "  \u001b[32m\"unknown\"\u001b[39m,\n",
              "  \u001b[32m\"unknown\"\u001b[39m,\n",
              "  \u001b[32m\"unkown\"\u001b[39m,\n",
              "  \u001b[32m\"unknown\"\u001b[39m,\n",
              "  \u001b[32m\"unknown\"\u001b[39m,\n",
              "  \u001b[32m\"Athens\"\u001b[39m,\n",
              "  \u001b[32m\"unknown\"\u001b[39m,\n",
              "  \u001b[32m\"Vulci\"\u001b[39m,\n",
              "  \u001b[32m\"Nucratis\"\u001b[39m,\n",
              "..."
            ]
          },
          "metadata": {}
        }
      ],
      "execution_count": 5,
      "metadata": {}
    },
    {
      "cell_type": "code",
      "source": [
        "val groupLocations = locationStrings.groupBy(v => v)"
      ],
      "outputs": [
        {
          "output_type": "execute_result",
          "execution_count": 7,
          "data": {
            "text/plain": [
              "\u001b[36mgroupLocations\u001b[39m: \u001b[32mMap\u001b[39m[\u001b[32mString\u001b[39m, \u001b[32mVector\u001b[39m[\u001b[32mString\u001b[39m]] = \u001b[33mHashMap\u001b[39m(\n",
              "  \u001b[32m\"Athens\"\u001b[39m -> \u001b[33mVector\u001b[39m(\u001b[32m\"Athens\"\u001b[39m, \u001b[32m\"Athens\"\u001b[39m, \u001b[32m\"Athens\"\u001b[39m, \u001b[32m\"Athens\"\u001b[39m),\n",
              "  \u001b[32m\"Aegina\"\u001b[39m -> \u001b[33mVector\u001b[39m(\u001b[32m\"Aegina\"\u001b[39m, \u001b[32m\"Aegina\"\u001b[39m),\n",
              "  \u001b[32m\"Tarquinia/Vulci (?)\"\u001b[39m -> \u001b[33mVector\u001b[39m(\u001b[32m\"Tarquinia/Vulci (?)\"\u001b[39m),\n",
              "  \u001b[32m\"Tarquinia\"\u001b[39m -> \u001b[33mVector\u001b[39m(\u001b[32m\"Tarquinia\"\u001b[39m),\n",
              "  \u001b[32m\"unknown\"\u001b[39m -> \u001b[33mVector\u001b[39m(\n",
              "    \u001b[32m\"unknown\"\u001b[39m,\n",
              "    \u001b[32m\"unknown\"\u001b[39m,\n",
              "    \u001b[32m\"unknown\"\u001b[39m,\n",
              "    \u001b[32m\"unknown\"\u001b[39m,\n",
              "    \u001b[32m\"unknown\"\u001b[39m,\n",
              "    \u001b[32m\"unknown\"\u001b[39m,\n",
              "    \u001b[32m\"unknown\"\u001b[39m,\n",
              "    \u001b[32m\"unknown\"\u001b[39m,\n",
              "    \u001b[32m\"unknown\"\u001b[39m,\n",
              "    \u001b[32m\"unknown\"\u001b[39m,\n",
              "    \u001b[32m\"unknown\"\u001b[39m,\n",
              "    \u001b[32m\"unknown\"\u001b[39m\n",
              "  ),\n",
              "  \u001b[32m\"Orvieto\"\u001b[39m -> \u001b[33mVector\u001b[39m(\u001b[32m\"Orvieto\"\u001b[39m),\n",
              "  \u001b[32m\"Vulci\"\u001b[39m -> \u001b[33mVector\u001b[39m(\n",
              "    \u001b[32m\"Vulci\"\u001b[39m,\n",
              "    \u001b[32m\"Vulci\"\u001b[39m,\n",
              "    \u001b[32m\"Vulci\"\u001b[39m,\n",
              "    \u001b[32m\"Vulci\"\u001b[39m,\n",
              "    \u001b[32m\"Vulci\"\u001b[39m,\n",
              "    \u001b[32m\"Vulci\"\u001b[39m,\n",
              "    \u001b[32m\"Vulci\"\u001b[39m,\n",
              "    \u001b[32m\"Vulci\"\u001b[39m,\n",
              "    \u001b[32m\"Vulci\"\u001b[39m,\n",
              "    \u001b[32m\"Vulci\"\u001b[39m,\n",
              "    \u001b[32m\"Vulci\"\u001b[39m\n",
              "  ),\n",
              "  \u001b[32m\"unkown\"\u001b[39m -> \u001b[33mVector\u001b[39m(\u001b[32m\"unkown\"\u001b[39m),\n",
              "  \u001b[32m\"Locri\"\u001b[39m -> \u001b[33mVector\u001b[39m(\u001b[32m\"Locri\"\u001b[39m),\n",
              "  \u001b[32m\"Nucratis\"\u001b[39m -> \u001b[33mVector\u001b[39m(\u001b[32m\"Nucratis\"\u001b[39m),\n",
              "  \u001b[32m\"Etruria\"\u001b[39m -> \u001b[33mVector\u001b[39m(\u001b[32m\"Etruria\"\u001b[39m),\n",
              "  \u001b[32m\"Agringento\"\u001b[39m -> \u001b[33mVector\u001b[39m(\u001b[32m\"Agringento\"\u001b[39m),\n",
              "  \u001b[32m\"Gela\"\u001b[39m -> \u001b[33mVector\u001b[39m(\u001b[32m\"Gela\"\u001b[39m, \u001b[32m\"Gela\"\u001b[39m, \u001b[32m\"Gela\"\u001b[39m, \u001b[32m\"Gela\"\u001b[39m),\n",
              "..."
            ]
          },
          "metadata": {}
        }
      ],
      "execution_count": 7,
      "metadata": {}
    },
    {
      "cell_type": "code",
      "source": [
        "val groupedLocationsVector = groupLocations.toVector"
      ],
      "outputs": [
        {
          "output_type": "execute_result",
          "execution_count": 9,
          "data": {
            "text/plain": [
              "\u001b[36mgroupedLocationsVector\u001b[39m: \u001b[32mVector\u001b[39m[(\u001b[32mString\u001b[39m, \u001b[32mVector\u001b[39m[\u001b[32mString\u001b[39m])] = \u001b[33mVector\u001b[39m(\n",
              "  (\u001b[32m\"Athens\"\u001b[39m, \u001b[33mVector\u001b[39m(\u001b[32m\"Athens\"\u001b[39m, \u001b[32m\"Athens\"\u001b[39m, \u001b[32m\"Athens\"\u001b[39m, \u001b[32m\"Athens\"\u001b[39m)),\n",
              "  (\u001b[32m\"Aegina\"\u001b[39m, \u001b[33mVector\u001b[39m(\u001b[32m\"Aegina\"\u001b[39m, \u001b[32m\"Aegina\"\u001b[39m)),\n",
              "  (\u001b[32m\"Tarquinia/Vulci (?)\"\u001b[39m, \u001b[33mVector\u001b[39m(\u001b[32m\"Tarquinia/Vulci (?)\"\u001b[39m)),\n",
              "  (\u001b[32m\"Tarquinia\"\u001b[39m, \u001b[33mVector\u001b[39m(\u001b[32m\"Tarquinia\"\u001b[39m)),\n",
              "  (\n",
              "    \u001b[32m\"unknown\"\u001b[39m,\n",
              "    \u001b[33mVector\u001b[39m(\n",
              "      \u001b[32m\"unknown\"\u001b[39m,\n",
              "      \u001b[32m\"unknown\"\u001b[39m,\n",
              "      \u001b[32m\"unknown\"\u001b[39m,\n",
              "      \u001b[32m\"unknown\"\u001b[39m,\n",
              "      \u001b[32m\"unknown\"\u001b[39m,\n",
              "      \u001b[32m\"unknown\"\u001b[39m,\n",
              "      \u001b[32m\"unknown\"\u001b[39m,\n",
              "      \u001b[32m\"unknown\"\u001b[39m,\n",
              "      \u001b[32m\"unknown\"\u001b[39m,\n",
              "      \u001b[32m\"unknown\"\u001b[39m,\n",
              "      \u001b[32m\"unknown\"\u001b[39m,\n",
              "      \u001b[32m\"unknown\"\u001b[39m\n",
              "    )\n",
              "  ),\n",
              "  (\u001b[32m\"Orvieto\"\u001b[39m, \u001b[33mVector\u001b[39m(\u001b[32m\"Orvieto\"\u001b[39m)),\n",
              "  (\n",
              "    \u001b[32m\"Vulci\"\u001b[39m,\n",
              "    \u001b[33mVector\u001b[39m(\n",
              "      \u001b[32m\"Vulci\"\u001b[39m,\n",
              "      \u001b[32m\"Vulci\"\u001b[39m,\n",
              "      \u001b[32m\"Vulci\"\u001b[39m,\n",
              "      \u001b[32m\"Vulci\"\u001b[39m,\n",
              "      \u001b[32m\"Vulci\"\u001b[39m,\n",
              "      \u001b[32m\"Vulci\"\u001b[39m,\n",
              "      \u001b[32m\"Vulci\"\u001b[39m,\n",
              "      \u001b[32m\"Vulci\"\u001b[39m,\n",
              "      \u001b[32m\"Vulci\"\u001b[39m,\n",
              "      \u001b[32m\"Vulci\"\u001b[39m,\n",
              "      \u001b[32m\"Vulci\"\u001b[39m\n",
              "    )\n",
              "  ),\n",
              "..."
            ]
          },
          "metadata": {}
        }
      ],
      "execution_count": 9,
      "metadata": {}
    },
    {
      "cell_type": "code",
      "source": [
        "val counts = groupedLocationsVector.map{ case (site,examples) => (site, examples.size) }"
      ],
      "outputs": [
        {
          "output_type": "execute_result",
          "execution_count": 11,
          "data": {
            "text/plain": [
              "\u001b[36mcounts\u001b[39m: \u001b[32mVector\u001b[39m[(\u001b[32mString\u001b[39m, \u001b[32mInt\u001b[39m)] = \u001b[33mVector\u001b[39m(\n",
              "  (\u001b[32m\"Athens\"\u001b[39m, \u001b[32m4\u001b[39m),\n",
              "  (\u001b[32m\"Aegina\"\u001b[39m, \u001b[32m2\u001b[39m),\n",
              "  (\u001b[32m\"Tarquinia/Vulci (?)\"\u001b[39m, \u001b[32m1\u001b[39m),\n",
              "  (\u001b[32m\"Tarquinia\"\u001b[39m, \u001b[32m1\u001b[39m),\n",
              "  (\u001b[32m\"unknown\"\u001b[39m, \u001b[32m12\u001b[39m),\n",
              "  (\u001b[32m\"Orvieto\"\u001b[39m, \u001b[32m1\u001b[39m),\n",
              "  (\u001b[32m\"Vulci\"\u001b[39m, \u001b[32m11\u001b[39m),\n",
              "  (\u001b[32m\"unkown\"\u001b[39m, \u001b[32m1\u001b[39m),\n",
              "  (\u001b[32m\"Locri\"\u001b[39m, \u001b[32m1\u001b[39m),\n",
              "  (\u001b[32m\"Nucratis\"\u001b[39m, \u001b[32m1\u001b[39m),\n",
              "  (\u001b[32m\"Etruria\"\u001b[39m, \u001b[32m1\u001b[39m),\n",
              "  (\u001b[32m\"Agringento\"\u001b[39m, \u001b[32m1\u001b[39m),\n",
              "  (\u001b[32m\"Gela\"\u001b[39m, \u001b[32m4\u001b[39m),\n",
              "  (\u001b[32m\"Taranto\"\u001b[39m, \u001b[32m2\u001b[39m),\n",
              "  (\u001b[32m\"Cervetri\"\u001b[39m, \u001b[32m1\u001b[39m),\n",
              "  (\u001b[32m\"Xanthos\"\u001b[39m, \u001b[32m1\u001b[39m)\n",
              ")"
            ]
          },
          "metadata": {}
        }
      ],
      "execution_count": 11,
      "metadata": {}
    },
    {
      "cell_type": "code",
      "source": [
        "counts.mkString(\"\\n\")"
      ],
      "outputs": [
        {
          "output_type": "execute_result",
          "execution_count": 12,
          "data": {
            "text/plain": [
              "\u001b[36mres11\u001b[39m: \u001b[32mString\u001b[39m = \u001b[32m\"\"\"(Athens,4)\n",
              "(Aegina,2)\n",
              "(Tarquinia/Vulci (?),1)\n",
              "(Tarquinia,1)\n",
              "(unknown,12)\n",
              "(Orvieto,1)\n",
              "(Vulci,11)\n",
              "(unkown,1)\n",
              "(Locri,1)\n",
              "(Nucratis,1)\n",
              "(Etruria,1)\n",
              "(Agringento,1)\n",
              "(Gela,4)\n",
              "(Taranto,2)\n",
              "(Cervetri,1)\n",
              "(Xanthos,1)\"\"\"\u001b[39m"
            ]
          },
          "metadata": {}
        }
      ],
      "execution_count": 12,
      "metadata": {}
    },
    {
      "cell_type": "code",
      "source": [],
      "outputs": [],
      "execution_count": null,
      "metadata": {}
    }
  ],
  "metadata": {
    "kernelspec": {
      "display_name": "Scala (2.13)",
      "language": "scala",
      "name": "scala213"
    },
    "language_info": {
      "codemirror_mode": "text/x-scala",
      "file_extension": ".scala",
      "mimetype": "text/x-scala",
      "name": "scala",
      "nbconvert_exporter": "script",
      "version": "2.13.1"
    },
    "nteract": {
      "version": "0.23.1"
    }
  },
  "nbformat": 4,
  "nbformat_minor": 4
}