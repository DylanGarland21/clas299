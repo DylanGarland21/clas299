{
  "cells": [
    {
      "cell_type": "code",
      "source": [
        "val vases = Vector (\"aegina\", \"Athens\")"
      ],
      "outputs": [
        {
          "output_type": "error",
          "ename": "SyntaxError",
          "evalue": "Unexpected identifier",
          "traceback": [
            "evalmachine.<anonymous>:1",
            "val vases = Vector (\"aegina\", \"Athens\")",
            "    ^^^^^",
            "",
            "SyntaxError: Unexpected identifier",
            "    at new Script (vm.js:85:7)",
            "    at createScript (vm.js:266:10)",
            "    at Object.runInThisContext (vm.js:314:10)",
            "    at run ([eval]:1054:15)",
            "    at onRunRequest ([eval]:888:18)",
            "    at onMessage ([eval]:848:13)",
            "    at process.emit (events.js:194:13)",
            "    at emit (internal/child_process.js:847:12)",
            "    at processTicksAndRejections (internal/process/task_queues.js:81:17)"
          ]
        }
      ],
      "execution_count": 1,
      "metadata": {
        "collapsed": true,
        "outputExpanded": false,
        "jupyter": {
          "source_hidden": false,
          "outputs_hidden": false
        },
        "nteract": {
          "transient": {
            "deleting": false
          }
        },
        "execution": {
          "iopub.status.busy": "2020-04-23T18:24:52.755Z",
          "iopub.execute_input": "2020-04-23T18:24:52.759Z",
          "iopub.status.idle": "2020-04-23T18:24:52.771Z",
          "shell.execute_reply": "2020-04-23T18:24:52.797Z"
        }
      }
    }
  ],
  "metadata": {
    "kernel_info": {
      "name": "node_nteract"
    },
    "language_info": {
      "name": "javascript",
      "version": "12.0.0",
      "mimetype": "application/javascript",
      "file_extension": ".js"
    },
    "kernelspec": {
      "argv": [
        "/Applications/nteract.app/Contents/MacOS/nteract",
        "/Applications/nteract.app/Contents/Resources/app.asar/node_modules/ijavascript/lib/kernel.js",
        "{connection_file}",
        "--protocol=5.0",
        "--hide-undefined"
      ],
      "display_name": "Node.js (nteract)",
      "env": {
        "ELECTRON_RUN_AS_NODE": "1",
        "NODE_PATH": "/Applications/nteract.app/Contents/Resources/app.asar/node_modules"
      },
      "language": "javascript",
      "name": "node_nteract"
    },
    "nteract": {
      "version": "0.22.4"
    }
  },
  "nbformat": 4,
  "nbformat_minor": 0
}